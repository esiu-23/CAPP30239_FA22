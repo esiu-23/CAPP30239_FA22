{
 "cells": [
  {
   "cell_type": "code",
   "execution_count": 2,
   "source": [
    "import pandas as pd\n"
   ],
   "outputs": [],
   "metadata": {}
  },
  {
   "cell_type": "code",
   "execution_count": 5,
   "source": [
    "il_actions = pd.read_csv(\"IL_climate_actions.csv\", names=[\"Title\", \"Created_Date\", \"Latest_Date\", \"Latest_Description\"])"
   ],
   "outputs": [],
   "metadata": {}
  },
  {
   "cell_type": "code",
   "execution_count": 6,
   "source": [
    "il_actions.head()"
   ],
   "outputs": [
    {
     "output_type": "execute_result",
     "data": {
      "text/html": [
       "<div>\n",
       "<style scoped>\n",
       "    .dataframe tbody tr th:only-of-type {\n",
       "        vertical-align: middle;\n",
       "    }\n",
       "\n",
       "    .dataframe tbody tr th {\n",
       "        vertical-align: top;\n",
       "    }\n",
       "\n",
       "    .dataframe thead th {\n",
       "        text-align: right;\n",
       "    }\n",
       "</style>\n",
       "<table border=\"1\" class=\"dataframe\">\n",
       "  <thead>\n",
       "    <tr style=\"text-align: right;\">\n",
       "      <th></th>\n",
       "      <th>Title</th>\n",
       "      <th>Created_Date</th>\n",
       "      <th>Latest_Date</th>\n",
       "      <th>Latest_Description</th>\n",
       "    </tr>\n",
       "  </thead>\n",
       "  <tbody>\n",
       "    <tr>\n",
       "      <th>0</th>\n",
       "      <td>BLACK NURSES MONTH</td>\n",
       "      <td>2022-01-12</td>\n",
       "      <td>2022-02-16</td>\n",
       "      <td>Resolution Adopted</td>\n",
       "    </tr>\n",
       "    <tr>\n",
       "      <th>1</th>\n",
       "      <td>MEMORIAL-DR. JAMES BURNETT</td>\n",
       "      <td>2021-06-15</td>\n",
       "      <td>2021-06-15</td>\n",
       "      <td>Resolution Adopted</td>\n",
       "    </tr>\n",
       "    <tr>\n",
       "      <th>2</th>\n",
       "      <td>SENATE RULES-AMEND</td>\n",
       "      <td>2021-01-29</td>\n",
       "      <td>2021-01-29</td>\n",
       "      <td>Referred to Assignments</td>\n",
       "    </tr>\n",
       "    <tr>\n",
       "      <th>3</th>\n",
       "      <td>RADIOCHEMISTRY LAB PROGRAM</td>\n",
       "      <td>2021-02-03</td>\n",
       "      <td>2021-07-23</td>\n",
       "      <td>Public Act . . . . . . . . . 102-0133</td>\n",
       "    </tr>\n",
       "    <tr>\n",
       "      <th>4</th>\n",
       "      <td>CD CORR-POINT OF CONTACT</td>\n",
       "      <td>2021-02-26</td>\n",
       "      <td>2021-08-20</td>\n",
       "      <td>Public Act . . . . . . . . . 102-0535</td>\n",
       "    </tr>\n",
       "  </tbody>\n",
       "</table>\n",
       "</div>"
      ],
      "text/plain": [
       "                        Title Created_Date Latest_Date  \\\n",
       "0          BLACK NURSES MONTH   2022-01-12  2022-02-16   \n",
       "1  MEMORIAL-DR. JAMES BURNETT   2021-06-15  2021-06-15   \n",
       "2          SENATE RULES-AMEND   2021-01-29  2021-01-29   \n",
       "3  RADIOCHEMISTRY LAB PROGRAM   2021-02-03  2021-07-23   \n",
       "4    CD CORR-POINT OF CONTACT   2021-02-26  2021-08-20   \n",
       "\n",
       "                      Latest_Description  \n",
       "0                     Resolution Adopted  \n",
       "1                     Resolution Adopted  \n",
       "2                Referred to Assignments  \n",
       "3  Public Act . . . . . . . . . 102-0133  \n",
       "4  Public Act . . . . . . . . . 102-0535  "
      ]
     },
     "metadata": {},
     "execution_count": 6
    }
   ],
   "metadata": {}
  },
  {
   "cell_type": "code",
   "execution_count": 9,
   "source": [
    "il_actions_filtered = il_actions[il_actions[\"Title\"].str.contains(\"climate\", case = False) | il_actions[\"Title\"].str.contains(\"environment\", case = False)] "
   ],
   "outputs": [],
   "metadata": {}
  },
  {
   "cell_type": "code",
   "execution_count": 10,
   "source": [
    "il_actions_filtered.head()"
   ],
   "outputs": [
    {
     "output_type": "execute_result",
     "data": {
      "text/html": [
       "<div>\n",
       "<style scoped>\n",
       "    .dataframe tbody tr th:only-of-type {\n",
       "        vertical-align: middle;\n",
       "    }\n",
       "\n",
       "    .dataframe tbody tr th {\n",
       "        vertical-align: top;\n",
       "    }\n",
       "\n",
       "    .dataframe thead th {\n",
       "        text-align: right;\n",
       "    }\n",
       "</style>\n",
       "<table border=\"1\" class=\"dataframe\">\n",
       "  <thead>\n",
       "    <tr style=\"text-align: right;\">\n",
       "      <th></th>\n",
       "      <th>Title</th>\n",
       "      <th>Created_Date</th>\n",
       "      <th>Latest_Date</th>\n",
       "      <th>Latest_Description</th>\n",
       "    </tr>\n",
       "  </thead>\n",
       "  <tbody>\n",
       "    <tr>\n",
       "      <th>12</th>\n",
       "      <td>EPA-ENVIRONMENTAL JUSTICE</td>\n",
       "      <td>2021-05-25</td>\n",
       "      <td>2022-06-06</td>\n",
       "      <td>Added as Alternate Co-Sponsor Sen. Suzy Glowia...</td>\n",
       "    </tr>\n",
       "    <tr>\n",
       "      <th>36</th>\n",
       "      <td>ENVIRONMENTAL JUSTICE ACT</td>\n",
       "      <td>2021-02-18</td>\n",
       "      <td>2022-03-04</td>\n",
       "      <td>House Floor Amendment No. 1 Rule 19(c) / Re-re...</td>\n",
       "    </tr>\n",
       "    <tr>\n",
       "      <th>131</th>\n",
       "      <td>ILLINOIS-CLIMATE CHANGE</td>\n",
       "      <td>2021-02-23</td>\n",
       "      <td>2021-02-23</td>\n",
       "      <td>Referred to Assignments</td>\n",
       "    </tr>\n",
       "    <tr>\n",
       "      <th>182</th>\n",
       "      <td>ENVIRONMENT-TECH</td>\n",
       "      <td>2021-01-29</td>\n",
       "      <td>2021-05-31</td>\n",
       "      <td>Rule 3-9(a) / Re-referred to Assignments</td>\n",
       "    </tr>\n",
       "    <tr>\n",
       "      <th>235</th>\n",
       "      <td>ENVIRONMENT-ALTERNATE FUELS</td>\n",
       "      <td>2021-01-25</td>\n",
       "      <td>2021-03-27</td>\n",
       "      <td>House Committee Amendment No. 1 Rule 19(c) / R...</td>\n",
       "    </tr>\n",
       "  </tbody>\n",
       "</table>\n",
       "</div>"
      ],
      "text/plain": [
       "                           Title Created_Date Latest_Date  \\\n",
       "12     EPA-ENVIRONMENTAL JUSTICE   2021-05-25  2022-06-06   \n",
       "36     ENVIRONMENTAL JUSTICE ACT   2021-02-18  2022-03-04   \n",
       "131      ILLINOIS-CLIMATE CHANGE   2021-02-23  2021-02-23   \n",
       "182             ENVIRONMENT-TECH   2021-01-29  2021-05-31   \n",
       "235  ENVIRONMENT-ALTERNATE FUELS   2021-01-25  2021-03-27   \n",
       "\n",
       "                                    Latest_Description  \n",
       "12   Added as Alternate Co-Sponsor Sen. Suzy Glowia...  \n",
       "36   House Floor Amendment No. 1 Rule 19(c) / Re-re...  \n",
       "131                            Referred to Assignments  \n",
       "182           Rule 3-9(a) / Re-referred to Assignments  \n",
       "235  House Committee Amendment No. 1 Rule 19(c) / R...  "
      ]
     },
     "metadata": {},
     "execution_count": 10
    }
   ],
   "metadata": {}
  },
  {
   "cell_type": "code",
   "execution_count": 11,
   "source": [
    "il_actions_filtered"
   ],
   "outputs": [
    {
     "output_type": "execute_result",
     "data": {
      "text/html": [
       "<div>\n",
       "<style scoped>\n",
       "    .dataframe tbody tr th:only-of-type {\n",
       "        vertical-align: middle;\n",
       "    }\n",
       "\n",
       "    .dataframe tbody tr th {\n",
       "        vertical-align: top;\n",
       "    }\n",
       "\n",
       "    .dataframe thead th {\n",
       "        text-align: right;\n",
       "    }\n",
       "</style>\n",
       "<table border=\"1\" class=\"dataframe\">\n",
       "  <thead>\n",
       "    <tr style=\"text-align: right;\">\n",
       "      <th></th>\n",
       "      <th>Title</th>\n",
       "      <th>Created_Date</th>\n",
       "      <th>Latest_Date</th>\n",
       "      <th>Latest_Description</th>\n",
       "    </tr>\n",
       "  </thead>\n",
       "  <tbody>\n",
       "    <tr>\n",
       "      <th>12</th>\n",
       "      <td>EPA-ENVIRONMENTAL JUSTICE</td>\n",
       "      <td>2021-05-25</td>\n",
       "      <td>2022-06-06</td>\n",
       "      <td>Added as Alternate Co-Sponsor Sen. Suzy Glowia...</td>\n",
       "    </tr>\n",
       "    <tr>\n",
       "      <th>36</th>\n",
       "      <td>ENVIRONMENTAL JUSTICE ACT</td>\n",
       "      <td>2021-02-18</td>\n",
       "      <td>2022-03-04</td>\n",
       "      <td>House Floor Amendment No. 1 Rule 19(c) / Re-re...</td>\n",
       "    </tr>\n",
       "    <tr>\n",
       "      <th>131</th>\n",
       "      <td>ILLINOIS-CLIMATE CHANGE</td>\n",
       "      <td>2021-02-23</td>\n",
       "      <td>2021-02-23</td>\n",
       "      <td>Referred to Assignments</td>\n",
       "    </tr>\n",
       "    <tr>\n",
       "      <th>182</th>\n",
       "      <td>ENVIRONMENT-TECH</td>\n",
       "      <td>2021-01-29</td>\n",
       "      <td>2021-05-31</td>\n",
       "      <td>Rule 3-9(a) / Re-referred to Assignments</td>\n",
       "    </tr>\n",
       "    <tr>\n",
       "      <th>235</th>\n",
       "      <td>ENVIRONMENT-ALTERNATE FUELS</td>\n",
       "      <td>2021-01-25</td>\n",
       "      <td>2021-03-27</td>\n",
       "      <td>House Committee Amendment No. 1 Rule 19(c) / R...</td>\n",
       "    </tr>\n",
       "    <tr>\n",
       "      <th>...</th>\n",
       "      <td>...</td>\n",
       "      <td>...</td>\n",
       "      <td>...</td>\n",
       "      <td>...</td>\n",
       "    </tr>\n",
       "    <tr>\n",
       "      <th>2707</th>\n",
       "      <td>ENVIRONMENTAL JUSTICE AGENDA</td>\n",
       "      <td>2017-04-21</td>\n",
       "      <td>2019-01-08</td>\n",
       "      <td>Session Sine Die</td>\n",
       "    </tr>\n",
       "    <tr>\n",
       "      <th>2754</th>\n",
       "      <td>SCHOOL CLIMATE AND CULTURE</td>\n",
       "      <td>2018-02-01</td>\n",
       "      <td>2018-05-10</td>\n",
       "      <td>Resolution Adopted</td>\n",
       "    </tr>\n",
       "    <tr>\n",
       "      <th>2773</th>\n",
       "      <td>AIRPORTS-ENVIRONMENTAL IMPACT</td>\n",
       "      <td>2018-02-15</td>\n",
       "      <td>2019-01-08</td>\n",
       "      <td>Session Sine Die</td>\n",
       "    </tr>\n",
       "    <tr>\n",
       "      <th>2784</th>\n",
       "      <td>ENVIRONMENT-TECH</td>\n",
       "      <td>2005-02-14</td>\n",
       "      <td>2007-01-09</td>\n",
       "      <td>Session Sine Die</td>\n",
       "    </tr>\n",
       "    <tr>\n",
       "      <th>2818</th>\n",
       "      <td>ENVIRONMENT-TECH</td>\n",
       "      <td>2005-02-14</td>\n",
       "      <td>2007-01-09</td>\n",
       "      <td>Session Sine Die</td>\n",
       "    </tr>\n",
       "  </tbody>\n",
       "</table>\n",
       "<p>68 rows × 4 columns</p>\n",
       "</div>"
      ],
      "text/plain": [
       "                              Title Created_Date Latest_Date  \\\n",
       "12        EPA-ENVIRONMENTAL JUSTICE   2021-05-25  2022-06-06   \n",
       "36        ENVIRONMENTAL JUSTICE ACT   2021-02-18  2022-03-04   \n",
       "131         ILLINOIS-CLIMATE CHANGE   2021-02-23  2021-02-23   \n",
       "182                ENVIRONMENT-TECH   2021-01-29  2021-05-31   \n",
       "235     ENVIRONMENT-ALTERNATE FUELS   2021-01-25  2021-03-27   \n",
       "...                             ...          ...         ...   \n",
       "2707   ENVIRONMENTAL JUSTICE AGENDA   2017-04-21  2019-01-08   \n",
       "2754     SCHOOL CLIMATE AND CULTURE   2018-02-01  2018-05-10   \n",
       "2773  AIRPORTS-ENVIRONMENTAL IMPACT   2018-02-15  2019-01-08   \n",
       "2784               ENVIRONMENT-TECH   2005-02-14  2007-01-09   \n",
       "2818               ENVIRONMENT-TECH   2005-02-14  2007-01-09   \n",
       "\n",
       "                                     Latest_Description  \n",
       "12    Added as Alternate Co-Sponsor Sen. Suzy Glowia...  \n",
       "36    House Floor Amendment No. 1 Rule 19(c) / Re-re...  \n",
       "131                             Referred to Assignments  \n",
       "182            Rule 3-9(a) / Re-referred to Assignments  \n",
       "235   House Committee Amendment No. 1 Rule 19(c) / R...  \n",
       "...                                                 ...  \n",
       "2707                                   Session Sine Die  \n",
       "2754                                 Resolution Adopted  \n",
       "2773                                   Session Sine Die  \n",
       "2784                                   Session Sine Die  \n",
       "2818                                   Session Sine Die  \n",
       "\n",
       "[68 rows x 4 columns]"
      ]
     },
     "metadata": {},
     "execution_count": 11
    }
   ],
   "metadata": {}
  },
  {
   "cell_type": "code",
   "execution_count": 17,
   "source": [
    "il_actions_filtered[\"Title\"].unique()"
   ],
   "outputs": [
    {
     "output_type": "execute_result",
     "data": {
      "text/plain": [
       "array(['EPA-ENVIRONMENTAL JUSTICE', 'ENVIRONMENTAL JUSTICE ACT',\n",
       "       'ILLINOIS-CLIMATE CHANGE', 'ENVIRONMENT-TECH',\n",
       "       'ENVIRONMENT-ALTERNATE FUELS', 'ENVIRONMENTAL RESPONSE PROJECT',\n",
       "       'ENVIRONMENTAL JUSTICE POLICY', 'AIRPORTS-ENVIRONMENTAL IMPACT',\n",
       "       'DRYCLEAN ENVIRONMENT RESPONSE', 'ENVIRONMENTAL IMPACT NOTE',\n",
       "       'ENVIRONMENTAL JUSTICE AGENDA',\n",
       "       'RTA-ENVIRONMENT PROTECT-TECH                                               ',\n",
       "       'UTILITY ENVIRONMENT INITIATIVE                                             ',\n",
       "       'DNR-ASSESS ENVIRONMENT IMPACT                                              ',\n",
       "       'ENVIRONMENTAL SAFETY-TECH', 'ENVIRONMENTAL PROTECTION-TECH',\n",
       "       'VEH CD-INSURE-ENVIRONMENTAL', 'SENIOR ENVIRONMENTAL CORPS',\n",
       "       'ENVIRONMENTAL PURCHASING GROUP', 'BALLOT INITIATIVE ENVIRONMENT',\n",
       "       'ENVIRONMENT BARRIER-CONTAIN', 'ENVIRONMENT BARRIER ACT-EXEMPT',\n",
       "       'UTILITY-ENVIRONMENT DISCLOSURE', 'ENVIRONMENTAL BARRIERS-STAIRS',\n",
       "       'UNIFORM ENVIRONMENTAL COVENANT', 'ENVIRONMENT-VEHICLE EMISSIONS',\n",
       "       'DRYCLEANER ENVIRONMENTAL FUND', 'ILLINOIS CLIMATE CHANGE ACT',\n",
       "       'ABUSIVE WORK ENVIRONMENT', 'ENCOURAGES ENVIRONMENTAL BUILD',\n",
       "       'ENVIRONMENTAL BARRIERS', 'ENVIRONMENT JUSTICE COMMISSION',\n",
       "       'SCHOOL CLIMATE AND CULTURE'], dtype=object)"
      ]
     },
     "metadata": {},
     "execution_count": 17
    }
   ],
   "metadata": {}
  },
  {
   "cell_type": "code",
   "execution_count": 20,
   "source": [
    "il_actions_filtered.to_csv(\"IL_cleaned_actions.csv\")"
   ],
   "outputs": [],
   "metadata": {}
  },
  {
   "cell_type": "code",
   "execution_count": 13,
   "source": [
    "il_actions_vote = pd.read_csv(\"IL_climate_votes.csv\", names=[\"Title\", \"Vote\", \"Name\"])"
   ],
   "outputs": [],
   "metadata": {}
  },
  {
   "cell_type": "code",
   "execution_count": 14,
   "source": [
    "il_actions_vote.head()"
   ],
   "outputs": [
    {
     "output_type": "execute_result",
     "data": {
      "text/html": [
       "<div>\n",
       "<style scoped>\n",
       "    .dataframe tbody tr th:only-of-type {\n",
       "        vertical-align: middle;\n",
       "    }\n",
       "\n",
       "    .dataframe tbody tr th {\n",
       "        vertical-align: top;\n",
       "    }\n",
       "\n",
       "    .dataframe thead th {\n",
       "        text-align: right;\n",
       "    }\n",
       "</style>\n",
       "<table border=\"1\" class=\"dataframe\">\n",
       "  <thead>\n",
       "    <tr style=\"text-align: right;\">\n",
       "      <th></th>\n",
       "      <th>Title</th>\n",
       "      <th>Vote</th>\n",
       "      <th>Name</th>\n",
       "    </tr>\n",
       "  </thead>\n",
       "  <tbody>\n",
       "    <tr>\n",
       "      <th>0</th>\n",
       "      <td>RADIOCHEMISTRY LAB PROGRAM</td>\n",
       "      <td>yes</td>\n",
       "      <td>Peters</td>\n",
       "    </tr>\n",
       "    <tr>\n",
       "      <th>1</th>\n",
       "      <td>RADIOCHEMISTRY LAB PROGRAM</td>\n",
       "      <td>yes</td>\n",
       "      <td>Gillespie</td>\n",
       "    </tr>\n",
       "    <tr>\n",
       "      <th>2</th>\n",
       "      <td>RADIOCHEMISTRY LAB PROGRAM</td>\n",
       "      <td>yes</td>\n",
       "      <td>Anderson</td>\n",
       "    </tr>\n",
       "    <tr>\n",
       "      <th>3</th>\n",
       "      <td>RADIOCHEMISTRY LAB PROGRAM</td>\n",
       "      <td>yes</td>\n",
       "      <td>Plummer</td>\n",
       "    </tr>\n",
       "    <tr>\n",
       "      <th>4</th>\n",
       "      <td>RADIOCHEMISTRY LAB PROGRAM</td>\n",
       "      <td>yes</td>\n",
       "      <td>Glowiak Hilton</td>\n",
       "    </tr>\n",
       "  </tbody>\n",
       "</table>\n",
       "</div>"
      ],
      "text/plain": [
       "                        Title Vote            Name\n",
       "0  RADIOCHEMISTRY LAB PROGRAM  yes          Peters\n",
       "1  RADIOCHEMISTRY LAB PROGRAM  yes       Gillespie\n",
       "2  RADIOCHEMISTRY LAB PROGRAM  yes        Anderson\n",
       "3  RADIOCHEMISTRY LAB PROGRAM  yes         Plummer\n",
       "4  RADIOCHEMISTRY LAB PROGRAM  yes  Glowiak Hilton"
      ]
     },
     "metadata": {},
     "execution_count": 14
    }
   ],
   "metadata": {}
  },
  {
   "cell_type": "code",
   "execution_count": 15,
   "source": [
    "il_votes_filtered = il_actions_vote[il_actions_vote[\"Title\"].str.contains(\"climate\", case = False) | il_actions_vote[\"Title\"].str.contains(\"environment\", case = False)] "
   ],
   "outputs": [],
   "metadata": {}
  },
  {
   "cell_type": "code",
   "execution_count": 18,
   "source": [
    "il_votes_filtered[\"Title\"].unique()"
   ],
   "outputs": [
    {
     "output_type": "execute_result",
     "data": {
      "text/plain": [
       "array(['EPA-ENVIRONMENTAL JUSTICE', 'ENVIRONMENTAL RESPONSE PROJECT',\n",
       "       'DRYCLEAN ENVIRONMENT RESPONSE', 'ENVIRONMENTAL JUSTICE AGENDA',\n",
       "       'ILLINOIS-CLIMATE CHANGE', 'ENVIRONMENT-TECH',\n",
       "       'UTILITY-ENVIRONMENT DISCLOSURE', 'UNIFORM ENVIRONMENTAL COVENANT',\n",
       "       'DRYCLEANER ENVIRONMENTAL FUND', 'ILLINOIS CLIMATE CHANGE ACT',\n",
       "       'ABUSIVE WORK ENVIRONMENT', 'AIRPORTS-ENVIRONMENTAL IMPACT',\n",
       "       'ENVIRONMENTAL BARRIERS', 'ENVIRONMENT JUSTICE COMMISSION',\n",
       "       'SCHOOL CLIMATE AND CULTURE'], dtype=object)"
      ]
     },
     "metadata": {},
     "execution_count": 18
    }
   ],
   "metadata": {}
  },
  {
   "cell_type": "code",
   "execution_count": 19,
   "source": [
    "il_votes_filtered.to_csv(\"IL_cleaned_votes.csv\")"
   ],
   "outputs": [],
   "metadata": {}
  },
  {
   "cell_type": "code",
   "execution_count": null,
   "source": [],
   "outputs": [],
   "metadata": {}
  }
 ],
 "metadata": {
  "orig_nbformat": 4,
  "language_info": {
   "name": "python",
   "version": "3.8.8",
   "mimetype": "text/x-python",
   "codemirror_mode": {
    "name": "ipython",
    "version": 3
   },
   "pygments_lexer": "ipython3",
   "nbconvert_exporter": "python",
   "file_extension": ".py"
  },
  "kernelspec": {
   "name": "python3",
   "display_name": "Python 3.8.8 64-bit ('base': conda)"
  },
  "interpreter": {
   "hash": "dca0ade3e726a953b501b15e8e990130d2b7799f14cfd9f4271676035ebe5511"
  }
 },
 "nbformat": 4,
 "nbformat_minor": 2
}